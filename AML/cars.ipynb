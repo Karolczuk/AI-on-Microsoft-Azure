{
  "cells": [
    
      {
      "cell_type": "markdown",
      "source": [
        "## Auto AML - przewidywanie ceny samochodu\r\n",
        "### Use case\r\n",
        "\r\n",
        "Celem ćwiczenia jest przewidzenie ceny samochodu mając dostęp do danych niezależnych m.in.:\r\n",
        "* enginetype\r\n",
        "* enginesize\r\n",
        "* fuelsystem\r\n",
        "* horsepower\r\n",
        "* car model\r\n",
        "\r\n",
        "Link do dataset'u: https://www.kaggle.com/hellbuoy/car-price-prediction \r\n",
        "### Kroki do wykonania eksperymentu\r\n",
        "\r\n",
        "1. Zaloguj się do Azure Portal i stwórz resource Azure Machine Learning\r\n",
		    "2. Zaloguj się na stronę https://ml.azure.com/ \r\n",
        "3. Pobierz z internetu zbiór danych\r\n",
		    "4. Przejdź do zakładki Datasets i załaduj zbiór danych\r\n",
        "5. Stwórz Compute Instances oraz Compute Clusters \r\n",
		    "6. Utwórz nowy notebook w Azure ML \r\n"
      ],
      "metadata": {
        "nteract": {
          "transient": {
            "deleting": false
          }
        }
      }
    },
   {
      "cell_type": "markdown",
      "source": [
        "### Sprawdzenie wersji sdk"
      ],
      "metadata": {
        "nteract": {
          "transient": {
            "deleting": false
          }
        }
      }
    },
	  
    {
      "cell_type": "code",
      "source": [
        "import azureml.core\r\n",
        "\r\n",
        "print(\"SDK version:\", azureml.core.VERSION)"
      ],
      "outputs": [
        {
          "output_type": "stream",
          "name": "stdout",
          "text": [
            "SDK version: 1.20.0\n"
          ]
        }
      ],
      "execution_count": 1,
      "metadata": {
        "gather": {
          "logged": 1611684246597
        }
      }
    },
    {
      "cell_type": "code",
      "source": [
        "from azureml.core import Workspace, Dataset\r\n",
        "\r\n",
        "# Get Workspace defined in by default config.json file\r\n",
        "ws = Workspace.from_config()"
      ],
      "outputs": [],
      "execution_count": 2,
      "metadata": {
        "collapsed": true,
        "jupyter": {
          "source_hidden": false,
          "outputs_hidden": false
        },
        "nteract": {
          "transient": {
            "deleting": false
          }
        },
        "gather": {
          "logged": 1611684276492
        }
      }
    },
  {
      "cell_type": "markdown",
      "source": [
        "### Załadowanie danych"
      ],
      "metadata": {
        "nteract": {
          "transient": {
            "deleting": false
          }
        }
      }
    },  
    {
      "cell_type": "code",
      "source": [
        "\r\n",
        "aml_dataset = ws.datasets['car']\r\n",
        "\r\n",
        "# Use Pandas DataFrame just to sneak peak some data and schema\r\n",
        "full_df = aml_dataset.to_pandas_dataframe()\r\n",
        "# .to_pandas_dataframe().dropna()\r\n",
        "full_df.head()"
      ],
      "outputs": [
        {
          "output_type": "execute_result",
          "execution_count": 11,
          "data": {
            "text/plain": "   car_ID  symboling                   CarName fueltype aspiration doornumber  \\\n0       1          3        alfa-romero giulia      gas        std        two   \n1       2          3       alfa-romero stelvio      gas        std        two   \n2       3          1  alfa-romero Quadrifoglio      gas        std        two   \n3       4          2               audi 100 ls      gas        std       four   \n4       5          2                audi 100ls      gas        std       four   \n\n       carbody drivewheel enginelocation  wheelbase  ...  enginesize  \\\n0  convertible        rwd          front       88.6  ...         130   \n1  convertible        rwd          front       88.6  ...         130   \n2    hatchback        rwd          front       94.5  ...         152   \n3        sedan        fwd          front       99.8  ...         109   \n4        sedan        4wd          front       99.4  ...         136   \n\n   fuelsystem  boreratio  stroke compressionratio horsepower  peakrpm citympg  \\\n0        mpfi       3.47    2.68              9.0        111     5000      21   \n1        mpfi       3.47    2.68              9.0        111     5000      21   \n2        mpfi       2.68    3.47              9.0        154     5000      19   \n3        mpfi       3.19    3.40             10.0        102     5500      24   \n4        mpfi       3.19    3.40              8.0        115     5500      18   \n\n   highwaympg    price  \n0          27  13495.0  \n1          27  16500.0  \n2          26  16500.0  \n3          30  13950.0  \n4          22  17450.0  \n\n[5 rows x 26 columns]",
            "text/html": "<div>\n<style scoped>\n    .dataframe tbody tr th:only-of-type {\n        vertical-align: middle;\n    }\n\n    .dataframe tbody tr th {\n        vertical-align: top;\n    }\n\n    .dataframe thead th {\n        text-align: right;\n    }\n</style>\n<table border=\"1\" class=\"dataframe\">\n  <thead>\n    <tr style=\"text-align: right;\">\n      <th></th>\n      <th>car_ID</th>\n      <th>symboling</th>\n      <th>CarName</th>\n      <th>fueltype</th>\n      <th>aspiration</th>\n      <th>doornumber</th>\n      <th>carbody</th>\n      <th>drivewheel</th>\n      <th>enginelocation</th>\n      <th>wheelbase</th>\n      <th>...</th>\n      <th>enginesize</th>\n      <th>fuelsystem</th>\n      <th>boreratio</th>\n      <th>stroke</th>\n      <th>compressionratio</th>\n      <th>horsepower</th>\n      <th>peakrpm</th>\n      <th>citympg</th>\n      <th>highwaympg</th>\n      <th>price</th>\n    </tr>\n  </thead>\n  <tbody>\n    <tr>\n      <th>0</th>\n      <td>1</td>\n      <td>3</td>\n      <td>alfa-romero giulia</td>\n      <td>gas</td>\n      <td>std</td>\n      <td>two</td>\n      <td>convertible</td>\n      <td>rwd</td>\n      <td>front</td>\n      <td>88.6</td>\n      <td>...</td>\n      <td>130</td>\n      <td>mpfi</td>\n      <td>3.47</td>\n      <td>2.68</td>\n      <td>9.0</td>\n      <td>111</td>\n      <td>5000</td>\n      <td>21</td>\n      <td>27</td>\n      <td>13495.0</td>\n    </tr>\n    <tr>\n      <th>1</th>\n      <td>2</td>\n      <td>3</td>\n      <td>alfa-romero stelvio</td>\n      <td>gas</td>\n      <td>std</td>\n      <td>two</td>\n      <td>convertible</td>\n      <td>rwd</td>\n      <td>front</td>\n      <td>88.6</td>\n      <td>...</td>\n      <td>130</td>\n      <td>mpfi</td>\n      <td>3.47</td>\n      <td>2.68</td>\n      <td>9.0</td>\n      <td>111</td>\n      <td>5000</td>\n      <td>21</td>\n      <td>27</td>\n      <td>16500.0</td>\n    </tr>\n    <tr>\n      <th>2</th>\n      <td>3</td>\n      <td>1</td>\n      <td>alfa-romero Quadrifoglio</td>\n      <td>gas</td>\n      <td>std</td>\n      <td>two</td>\n      <td>hatchback</td>\n      <td>rwd</td>\n      <td>front</td>\n      <td>94.5</td>\n      <td>...</td>\n      <td>152</td>\n      <td>mpfi</td>\n      <td>2.68</td>\n      <td>3.47</td>\n      <td>9.0</td>\n      <td>154</td>\n      <td>5000</td>\n      <td>19</td>\n      <td>26</td>\n      <td>16500.0</td>\n    </tr>\n    <tr>\n      <th>3</th>\n      <td>4</td>\n      <td>2</td>\n      <td>audi 100 ls</td>\n      <td>gas</td>\n      <td>std</td>\n      <td>four</td>\n      <td>sedan</td>\n      <td>fwd</td>\n      <td>front</td>\n      <td>99.8</td>\n      <td>...</td>\n      <td>109</td>\n      <td>mpfi</td>\n      <td>3.19</td>\n      <td>3.40</td>\n      <td>10.0</td>\n      <td>102</td>\n      <td>5500</td>\n      <td>24</td>\n      <td>30</td>\n      <td>13950.0</td>\n    </tr>\n    <tr>\n      <th>4</th>\n      <td>5</td>\n      <td>2</td>\n      <td>audi 100ls</td>\n      <td>gas</td>\n      <td>std</td>\n      <td>four</td>\n      <td>sedan</td>\n      <td>4wd</td>\n      <td>front</td>\n      <td>99.4</td>\n      <td>...</td>\n      <td>136</td>\n      <td>mpfi</td>\n      <td>3.19</td>\n      <td>3.40</td>\n      <td>8.0</td>\n      <td>115</td>\n      <td>5500</td>\n      <td>18</td>\n      <td>22</td>\n      <td>17450.0</td>\n    </tr>\n  </tbody>\n</table>\n<p>5 rows × 26 columns</p>\n</div>"
          },
          "metadata": {}
        }
      ],
      "execution_count": 11,
      "metadata": {
        "collapsed": true,
        "jupyter": {
          "source_hidden": false,
          "outputs_hidden": false
        },
        "nteract": {
          "transient": {
            "deleting": false
          }
        },
        "gather": {
          "logged": 1611685317728
        }
      }
    },
    {
      "cell_type": "code",
      "source": [
        "full_df.describe()"
      ],
      "outputs": [
        {
          "output_type": "execute_result",
          "execution_count": 12,
          "data": {
            "text/plain": "           car_ID   symboling   wheelbase   carlength    carwidth   carheight  \\\ncount  205.000000  205.000000  205.000000  205.000000  205.000000  205.000000   \nmean   103.000000    0.834146   98.756585  174.049268   65.907805   53.724878   \nstd     59.322565    1.245307    6.021776   12.337289    2.145204    2.443522   \nmin      1.000000   -2.000000   86.600000  141.100000   60.300000   47.800000   \n25%     52.000000    0.000000   94.500000  166.300000   64.100000   52.000000   \n50%    103.000000    1.000000   97.000000  173.200000   65.500000   54.100000   \n75%    154.000000    2.000000  102.400000  183.100000   66.900000   55.500000   \nmax    205.000000    3.000000  120.900000  208.100000   72.300000   59.800000   \n\n        curbweight  enginesize   boreratio      stroke  compressionratio  \\\ncount   205.000000  205.000000  205.000000  205.000000        205.000000   \nmean   2555.565854  126.907317    3.329756    3.255415         10.142537   \nstd     520.680204   41.642693    0.270844    0.313597          3.972040   \nmin    1488.000000   61.000000    2.540000    2.070000          7.000000   \n25%    2145.000000   97.000000    3.150000    3.110000          8.600000   \n50%    2414.000000  120.000000    3.310000    3.290000          9.000000   \n75%    2935.000000  141.000000    3.580000    3.410000          9.400000   \nmax    4066.000000  326.000000    3.940000    4.170000         23.000000   \n\n       horsepower      peakrpm     citympg  highwaympg         price  \ncount  205.000000   205.000000  205.000000  205.000000    205.000000  \nmean   104.117073  5125.121951   25.219512   30.751220  13276.710571  \nstd     39.544167   476.985643    6.542142    6.886443   7988.852332  \nmin     48.000000  4150.000000   13.000000   16.000000   5118.000000  \n25%     70.000000  4800.000000   19.000000   25.000000   7788.000000  \n50%     95.000000  5200.000000   24.000000   30.000000  10295.000000  \n75%    116.000000  5500.000000   30.000000   34.000000  16503.000000  \nmax    288.000000  6600.000000   49.000000   54.000000  45400.000000  ",
            "text/html": "<div>\n<style scoped>\n    .dataframe tbody tr th:only-of-type {\n        vertical-align: middle;\n    }\n\n    .dataframe tbody tr th {\n        vertical-align: top;\n    }\n\n    .dataframe thead th {\n        text-align: right;\n    }\n</style>\n<table border=\"1\" class=\"dataframe\">\n  <thead>\n    <tr style=\"text-align: right;\">\n      <th></th>\n      <th>car_ID</th>\n      <th>symboling</th>\n      <th>wheelbase</th>\n      <th>carlength</th>\n      <th>carwidth</th>\n      <th>carheight</th>\n      <th>curbweight</th>\n      <th>enginesize</th>\n      <th>boreratio</th>\n      <th>stroke</th>\n      <th>compressionratio</th>\n      <th>horsepower</th>\n      <th>peakrpm</th>\n      <th>citympg</th>\n      <th>highwaympg</th>\n      <th>price</th>\n    </tr>\n  </thead>\n  <tbody>\n    <tr>\n      <th>count</th>\n      <td>205.000000</td>\n      <td>205.000000</td>\n      <td>205.000000</td>\n      <td>205.000000</td>\n      <td>205.000000</td>\n      <td>205.000000</td>\n      <td>205.000000</td>\n      <td>205.000000</td>\n      <td>205.000000</td>\n      <td>205.000000</td>\n      <td>205.000000</td>\n      <td>205.000000</td>\n      <td>205.000000</td>\n      <td>205.000000</td>\n      <td>205.000000</td>\n      <td>205.000000</td>\n    </tr>\n    <tr>\n      <th>mean</th>\n      <td>103.000000</td>\n      <td>0.834146</td>\n      <td>98.756585</td>\n      <td>174.049268</td>\n      <td>65.907805</td>\n      <td>53.724878</td>\n      <td>2555.565854</td>\n      <td>126.907317</td>\n      <td>3.329756</td>\n      <td>3.255415</td>\n      <td>10.142537</td>\n      <td>104.117073</td>\n      <td>5125.121951</td>\n      <td>25.219512</td>\n      <td>30.751220</td>\n      <td>13276.710571</td>\n    </tr>\n    <tr>\n      <th>std</th>\n      <td>59.322565</td>\n      <td>1.245307</td>\n      <td>6.021776</td>\n      <td>12.337289</td>\n      <td>2.145204</td>\n      <td>2.443522</td>\n      <td>520.680204</td>\n      <td>41.642693</td>\n      <td>0.270844</td>\n      <td>0.313597</td>\n      <td>3.972040</td>\n      <td>39.544167</td>\n      <td>476.985643</td>\n      <td>6.542142</td>\n      <td>6.886443</td>\n      <td>7988.852332</td>\n    </tr>\n    <tr>\n      <th>min</th>\n      <td>1.000000</td>\n      <td>-2.000000</td>\n      <td>86.600000</td>\n      <td>141.100000</td>\n      <td>60.300000</td>\n      <td>47.800000</td>\n      <td>1488.000000</td>\n      <td>61.000000</td>\n      <td>2.540000</td>\n      <td>2.070000</td>\n      <td>7.000000</td>\n      <td>48.000000</td>\n      <td>4150.000000</td>\n      <td>13.000000</td>\n      <td>16.000000</td>\n      <td>5118.000000</td>\n    </tr>\n    <tr>\n      <th>25%</th>\n      <td>52.000000</td>\n      <td>0.000000</td>\n      <td>94.500000</td>\n      <td>166.300000</td>\n      <td>64.100000</td>\n      <td>52.000000</td>\n      <td>2145.000000</td>\n      <td>97.000000</td>\n      <td>3.150000</td>\n      <td>3.110000</td>\n      <td>8.600000</td>\n      <td>70.000000</td>\n      <td>4800.000000</td>\n      <td>19.000000</td>\n      <td>25.000000</td>\n      <td>7788.000000</td>\n    </tr>\n    <tr>\n      <th>50%</th>\n      <td>103.000000</td>\n      <td>1.000000</td>\n      <td>97.000000</td>\n      <td>173.200000</td>\n      <td>65.500000</td>\n      <td>54.100000</td>\n      <td>2414.000000</td>\n      <td>120.000000</td>\n      <td>3.310000</td>\n      <td>3.290000</td>\n      <td>9.000000</td>\n      <td>95.000000</td>\n      <td>5200.000000</td>\n      <td>24.000000</td>\n      <td>30.000000</td>\n      <td>10295.000000</td>\n    </tr>\n    <tr>\n      <th>75%</th>\n      <td>154.000000</td>\n      <td>2.000000</td>\n      <td>102.400000</td>\n      <td>183.100000</td>\n      <td>66.900000</td>\n      <td>55.500000</td>\n      <td>2935.000000</td>\n      <td>141.000000</td>\n      <td>3.580000</td>\n      <td>3.410000</td>\n      <td>9.400000</td>\n      <td>116.000000</td>\n      <td>5500.000000</td>\n      <td>30.000000</td>\n      <td>34.000000</td>\n      <td>16503.000000</td>\n    </tr>\n    <tr>\n      <th>max</th>\n      <td>205.000000</td>\n      <td>3.000000</td>\n      <td>120.900000</td>\n      <td>208.100000</td>\n      <td>72.300000</td>\n      <td>59.800000</td>\n      <td>4066.000000</td>\n      <td>326.000000</td>\n      <td>3.940000</td>\n      <td>4.170000</td>\n      <td>23.000000</td>\n      <td>288.000000</td>\n      <td>6600.000000</td>\n      <td>49.000000</td>\n      <td>54.000000</td>\n      <td>45400.000000</td>\n    </tr>\n  </tbody>\n</table>\n</div>"
          },
          "metadata": {}
        }
      ],
      "execution_count": 12,
      "metadata": {
        "collapsed": true,
        "jupyter": {
          "source_hidden": false,
          "outputs_hidden": false
        },
        "nteract": {
          "transient": {
            "deleting": false
          }
        },
        "gather": {
          "logged": 1611685339547
        }
      }
    },
{
      "cell_type": "markdown",
      "source": [
        "### Podział danych na zbiór uczący i testowy"
      ],
      "metadata": {
        "nteract": {
          "transient": {
            "deleting": false
          }
        }
      }
    },
	  
    {
      "cell_type": "code",
      "source": [
        "train_dataset, test_dataset = aml_dataset.random_split(0.8, seed=1)\r\n",
        "\r\n",
        "train_dataset_df = train_dataset.to_pandas_dataframe()\r\n",
        "test_dataset_df = test_dataset.to_pandas_dataframe()\r\n",
        "\r\n",
        "print(train_dataset_df.describe())"
      ],
      "outputs": [
        {
          "output_type": "stream",
          "name": "stdout",
          "text": [
            "           car_ID   symboling   wheelbase   carlength    carwidth   carheight  \\\n",
            "count  175.000000  175.000000  175.000000  175.000000  175.000000  175.000000   \n",
            "mean   101.034286    0.851429   98.545143  173.511429   65.860000   53.704571   \n",
            "std     59.461752    1.218009    5.958011   12.431753    2.195973    2.395010   \n",
            "min      1.000000   -2.000000   86.600000  141.100000   60.300000   47.800000   \n",
            "25%     49.500000    0.000000   94.500000  166.300000   64.000000   52.000000   \n",
            "50%     99.000000    1.000000   96.500000  172.400000   65.400000   54.100000   \n",
            "75%    151.500000    2.000000  101.200000  180.250000   66.500000   55.500000   \n",
            "max    205.000000    3.000000  120.900000  208.100000   72.300000   59.800000   \n",
            "\n",
            "        curbweight  enginesize   boreratio      stroke  compressionratio  \\\n",
            "count   175.000000  175.000000  175.000000  175.000000        175.000000   \n",
            "mean   2543.280000  126.634286    3.318514    3.242029         10.051543   \n",
            "std     520.781846   42.521434    0.272726    0.311764          3.866084   \n",
            "min    1488.000000   61.000000    2.540000    2.070000          7.000000   \n",
            "25%    2134.000000   97.000000    3.140000    3.110000          8.500000   \n",
            "50%    2410.000000  110.000000    3.310000    3.290000          9.000000   \n",
            "75%    2918.000000  141.000000    3.580000    3.400000          9.400000   \n",
            "max    4066.000000  326.000000    3.940000    4.170000         23.000000   \n",
            "\n",
            "       horsepower      peakrpm     citympg  highwaympg         price  \n",
            "count  175.000000   175.000000  175.000000  175.000000    175.000000  \n",
            "mean   104.257143  5132.285714   25.217143   30.702857  13415.438097  \n",
            "std     40.469900   489.487685    6.594908    6.873466   8283.054445  \n",
            "min     48.000000  4150.000000   13.000000   16.000000   5118.000000  \n",
            "25%     70.000000  4800.000000   19.000000   25.000000   7775.000000  \n",
            "50%     95.000000  5200.000000   24.000000   30.000000  10295.000000  \n",
            "75%    116.000000  5500.000000   30.000000   35.000000  16536.500000  \n",
            "max    288.000000  6600.000000   49.000000   54.000000  45400.000000  \n"
          ]
        }
      ],
      "execution_count": 14,
      "metadata": {
        "collapsed": true,
        "jupyter": {
          "source_hidden": false,
          "outputs_hidden": false
        },
        "nteract": {
          "transient": {
            "deleting": false
          }
        },
        "gather": {
          "logged": 1611685875817
        }
      }
    },
    {
      "cell_type": "code",
      "source": [
        "amlcompute_cluster_name = \"cpus-cluster\"\r\n",
        "\r\n",
        "found = False\r\n",
        "# Check if this compute target already exists in the workspace.\r\n",
        "cts = ws.compute_targets\r\n",
        "\r\n",
        "if amlcompute_cluster_name in cts and cts[amlcompute_cluster_name].type == 'AmlCompute':\r\n",
        "     found = True\r\n",
        "     print('Found existing training cluster.')\r\n",
        "     # Get existing cluster\r\n",
        "     # Method 1:\r\n",
        "     aml_remote_compute = cts[amlcompute_cluster_name]\r\n",
        "     # Method 2:\r\n",
        "     # aml_remote_compute = ComputeTarget(ws, amlcompute_cluster_name)\r\n",
        "    \r\n",
        "if not found:\r\n",
        "     print('Creating not found')\r\n",
        "    \r\n",
        "print('Checking cluster status...')\r\n",
        "# Can poll for a minimum number of nodes and for a specific timeout.\r\n",
        "# If no min_node_count is provided, it will use the scale settings for the cluster.\r\n",
        "aml_remote_compute.wait_for_completion(show_output = True)"
      ],
      "outputs": [
        {
          "output_type": "stream",
          "name": "stdout",
          "text": [
            "Found existing training cluster.\n",
            "Checking cluster status...\n",
            "Succeeded\n",
            "AmlCompute wait for completion finished\n",
            "\n",
            "Minimum number of nodes requested have been provisioned\n"
          ]
        }
      ],
      "execution_count": 15,
      "metadata": {
        "collapsed": true,
        "jupyter": {
          "source_hidden": false,
          "outputs_hidden": false
        },
        "nteract": {
          "transient": {
            "deleting": false
          }
        },
        "gather": {
          "logged": 1611686113814
        }
      }
    },
    {
      "cell_type": "code",
      "source": [
        "from azureml.train import automl\r\n",
        "\r\n",
        "automl.utilities.get_primary_metrics('regression')"
      ],
      "outputs": [
        {
          "output_type": "execute_result",
          "execution_count": 16,
          "data": {
            "text/plain": "['normalized_root_mean_squared_error',\n 'normalized_mean_absolute_error',\n 'r2_score',\n 'spearman_correlation']"
          },
          "metadata": {}
        }
      ],
      "execution_count": 16,
      "metadata": {
        "collapsed": true,
        "jupyter": {
          "source_hidden": false,
          "outputs_hidden": false
        },
        "nteract": {
          "transient": {
            "deleting": false
          }
        },
        "gather": {
          "logged": 1611686290287
        }
      }
    },
    {
      "cell_type": "code",
      "source": [
        "import logging\r\n",
        "import os\r\n",
        "\r\n",
        "from azureml.train.automl import AutoMLConfig\r\n",
        "\r\n",
        "project_folder = './'\r\n",
        "os.makedirs(project_folder, exist_ok=True)\r\n",
        "\r\n",
        "automl_config = AutoMLConfig(compute_target=aml_remote_compute,\r\n",
        "                             task='regression',\r\n",
        "                             primary_metric='r2_score',\r\n",
        "                             experiment_timeout_minutes=15,                            \r\n",
        "                             training_data=train_dataset,\r\n",
        "                             label_column_name=\"price\",\r\n",
        "                             n_cross_validations=5,                                                 \r\n",
        "                             enable_early_stopping=True,\r\n",
        "                             featurization='auto',\r\n",
        "                             debug_log='automated_ml_errors.log',\r\n",
        "                             verbosity=logging.INFO,\r\n",
        "                             path=project_folder\r\n",
        "                             )"
      ],
      "outputs": [],
      "execution_count": 17,
      "metadata": {
        "collapsed": true,
        "jupyter": {
          "source_hidden": false,
          "outputs_hidden": false
        },
        "nteract": {
          "transient": {
            "deleting": false
          }
        },
        "gather": {
          "logged": 1611686622436
        }
      }
    },
    {
      "cell_type": "code",
      "source": [
        "from azureml.core import Experiment\r\n",
        "from datetime import datetime\r\n",
        "\r\n",
        "now = datetime.now()\r\n",
        "time_string = now.strftime(\"%m-%d-%Y-%H\")\r\n",
        "experiment_name = \"regress-automl-remote-{0}\".format(time_string)\r\n",
        "print(experiment_name)\r\n",
        "\r\n",
        "experiment = Experiment(workspace=ws, name=experiment_name)\r\n",
        "\r\n",
        "import time\r\n",
        "start_time = time.time()\r\n",
        "            \r\n",
        "run = experiment.submit(automl_config, show_output=True)\r\n",
        "\r\n",
        "\r\n",
        "print('Manual run timing: --- %s seconds needed for running the whole Remote AutoML Experiment ---' % (time.time() - start_time))"
      ],
      "outputs": [
        {
          "output_type": "stream",
          "name": "stdout",
          "text": [
            "regress-automl-remote-01-26-2021-18\n",
            "Running on remote.\n",
            "No run_configuration provided, running on cpus-cluster with default configuration\n",
            "Running on remote compute: cpus-cluster\n",
            "Parent Run ID: AutoML_96ab8256-bde0-459f-9c85-c610046fd3e9\n",
            "\n",
            "Current status: FeaturesGeneration. Generating features for the dataset.\n",
            "Current status: ModelSelection. Beginning model selection.\n",
            "\n",
            "****************************************************************************************************\n",
            "DATA GUARDRAILS: \n",
            "\n",
            "TYPE:         Missing feature values imputation\n",
            "STATUS:       PASSED\n",
            "DESCRIPTION:  No feature missing values were detected in the training data.\n",
            "              Learn more about missing value imputation: https://aka.ms/AutomatedMLFeaturization\n",
            "\n",
            "****************************************************************************************************\n",
            "\n",
            "TYPE:         High cardinality feature detection\n",
            "STATUS:       DONE\n",
            "DESCRIPTION:  High cardinality features were detected in your inputs and handled.\n",
            "              Learn more about high cardinality feature handling: https://aka.ms/AutomatedMLFeaturization\n",
            "DETAILS:      High cardinality features refer to columns that contain a large percentage of unique values.\n",
            "+---------------------------------+---------------------------------+\n",
            "|Column name                      |Column Content Type              |\n",
            "+=================================+=================================+\n",
            "|CarName                          |text                             |\n",
            "+---------------------------------+---------------------------------+\n",
            "\n",
            "****************************************************************************************************\n",
            "\n",
            "****************************************************************************************************\n",
            "ITERATION: The iteration being evaluated.\n",
            "PIPELINE: A summary description of the pipeline being evaluated.\n",
            "DURATION: Time taken for the current iteration.\n",
            "METRIC: The result of computing score on the fitted pipeline.\n",
            "BEST: The best observed score thus far.\n",
            "****************************************************************************************************\n",
            "\n",
            " ITERATION   PIPELINE                                       DURATION      METRIC      BEST\n",
            "         0   MaxAbsScaler LightGBM                          0:00:40       0.8965    0.8965\n",
            "         1   MaxAbsScaler XGBoostRegressor                  0:00:39       0.9342    0.9342\n",
            "         2   SparseNormalizer XGBoostRegressor              0:00:50       0.9060    0.9342\n",
            "         3   MaxAbsScaler RandomForest                      0:00:50       0.9263    0.9342\n",
            "         4   StandardScalerWrapper XGBoostRegressor         0:00:48       0.9261    0.9342\n",
            "         5   MaxAbsScaler ElasticNet                        0:00:49       0.5696    0.9342\n",
            "         6   MaxAbsScaler RandomForest                      0:00:48       0.9324    0.9342\n",
            "         7   StandardScalerWrapper XGBoostRegressor         0:00:39       0.9349    0.9349\n",
            "         8   MaxAbsScaler ExtremeRandomTrees                0:00:52       0.9145    0.9349\n",
            "         9   StandardScalerWrapper ElasticNet               0:00:42       0.7997    0.9349\n",
            "        10   MaxAbsScaler RandomForest                      0:00:51       0.9071    0.9349\n",
            "        11   MaxAbsScaler RandomForest                      0:00:45       0.8696    0.9349\n",
            "        12   StandardScalerWrapper XGBoostRegressor         0:00:48       0.8646    0.9349\n"
          ]
        }
      ],
      "execution_count": null,
      "metadata": {
        "collapsed": true,
        "jupyter": {
          "source_hidden": false,
          "outputs_hidden": false
        },
        "nteract": {
          "transient": {
            "deleting": false
          }
        }
      }
    },
    {
      "cell_type": "code",
      "source": [
        "best_run, fitted_model = run.get_output()\r\n",
        "print(best_run)\r\n",
        "print(fitted_model)"
      ],
      "outputs": [
        {
          "output_type": "stream",
          "name": "stdout",
          "text": [
            "Run(Experiment: regress-automl-remote-01-26-2021-18,\n",
            "Id: AutoML_96ab8256-bde0-459f-9c85-c610046fd3e9_16,\n",
            "Type: azureml.scriptrun,\n",
            "Status: Completed)\n",
            "RegressionPipeline(pipeline=Pipeline(memory=None,\n",
            "                                     steps=[('datatransformer',\n",
            "                                             DataTransformer(enable_dnn=None,\n",
            "                                                             enable_feature_sweeping=None,\n",
            "                                                             feature_sweeping_config=None,\n",
            "                                                             feature_sweeping_timeout=None,\n",
            "                                                             featurization_config=None,\n",
            "                                                             force_text_dnn=None,\n",
            "                                                             is_cross_validation=None,\n",
            "                                                             is_onnx_compatible=None,\n",
            "                                                             logger=None,\n",
            "                                                             observer=None,\n",
            "                                                             task=None,\n",
            "                                                             working_dir=None)),\n",
            "                                            ('pre...\n",
            "                                                                                                                   max_iter=1000,\n",
            "                                                                                                                   normalize=False,\n",
            "                                                                                                                   positive=False,\n",
            "                                                                                                                   precompute=False,\n",
            "                                                                                                                   random_state=None,\n",
            "                                                                                                                   selection='cyclic',\n",
            "                                                                                                                   tol=0.0001,\n",
            "                                                                                                                   warm_start=False))],\n",
            "                                                                                                verbose=False))],\n",
            "                                                                          weights=[0.4,\n",
            "                                                                                   0.06666666666666667,\n",
            "                                                                                   0.06666666666666667,\n",
            "                                                                                   0.06666666666666667,\n",
            "                                                                                   0.06666666666666667,\n",
            "                                                                                   0.06666666666666667,\n",
            "                                                                                   0.13333333333333333,\n",
            "                                                                                   0.06666666666666667,\n",
            "                                                                                   0.06666666666666667]))],\n",
            "                                     verbose=False),\n",
            "                   stddev=None)\n"
          ]
        }
      ],
      "execution_count": 21,
      "metadata": {
        "collapsed": true,
        "jupyter": {
          "source_hidden": false,
          "outputs_hidden": false
        },
        "nteract": {
          "transient": {
            "deleting": false
          }
        },
        "gather": {
          "logged": 1611688602936
        }
      }
    },
    {
      "cell_type": "code",
      "source": [
        "import pandas as pd\r\n",
        "\r\n",
        "if 'price' in test_dataset_df.columns:\r\n",
        "    y_test_df = test_dataset_df.pop('price')\r\n",
        "\r\n",
        "x_test_df = test_dataset_df"
      ],
      "outputs": [],
      "execution_count": 24,
      "metadata": {
        "collapsed": true,
        "jupyter": {
          "source_hidden": false,
          "outputs_hidden": false
        },
        "nteract": {
          "transient": {
            "deleting": false
          }
        },
        "gather": {
          "logged": 1611688767188
        }
      }
    },
    {
      "cell_type": "code",
      "source": [
        "y_predictions = fitted_model.predict(x_test_df)\r\n",
        "\r\n",
        "print('10 predictions: ')\r\n",
        "print(y_predictions[:10])"
      ],
      "outputs": [
        {
          "output_type": "stream",
          "name": "stdout",
          "text": [
            "10 predictions: \n",
            "[14047.89781494  6377.06065034  7797.15107187  9125.37602026\n",
            " 35435.47835752 12334.25745746 10651.11683417 10402.39697368\n",
            " 29632.88858731 13754.29995059]\n"
          ]
        }
      ],
      "execution_count": 25,
      "metadata": {
        "collapsed": true,
        "jupyter": {
          "source_hidden": false,
          "outputs_hidden": false
        },
        "nteract": {
          "transient": {
            "deleting": false
          }
        },
        "gather": {
          "logged": 1611688798726
        }
      }
    },
    {
      "cell_type": "code",
      "source": [
        "y_predictions.shape\r\n"
      ],
      "outputs": [
        {
          "output_type": "execute_result",
          "execution_count": 26,
          "data": {
            "text/plain": "(30,)"
          },
          "metadata": {}
        }
      ],
      "execution_count": 26,
      "metadata": {
        "collapsed": true,
        "jupyter": {
          "source_hidden": false,
          "outputs_hidden": false
        },
        "nteract": {
          "transient": {
            "deleting": false
          }
        },
        "gather": {
          "logged": 1611688823129
        }
      }
    },
    {
      "cell_type": "code",
      "source": [
        "from sklearn.metrics import r2_score\r\n",
        "\r\n",
        "print('Result: r2 score')\r\n",
        "r2_score(y_test_df, y_predictions)"
      ],
      "outputs": [
        {
          "output_type": "stream",
          "name": "stdout",
          "text": [
            "Result: r2 score\n"
          ]
        },
        {
          "output_type": "execute_result",
          "execution_count": 28,
          "data": {
            "text/plain": "0.9055293351826881"
          },
          "metadata": {}
        }
      ],
      "execution_count": 28,
      "metadata": {
        "collapsed": true,
        "jupyter": {
          "source_hidden": false,
          "outputs_hidden": false
        },
        "nteract": {
          "transient": {
            "deleting": false
          }
        },
        "gather": {
          "logged": 1611688912251
        }
      }
    }
  ],
  "metadata": {
    "kernelspec": {
      "name": "python3-azureml",
      "language": "python",
      "display_name": "Python 3.6 - AzureML"
    },
    "language_info": {
      "name": "python",
      "version": "3.6.9",
      "mimetype": "text/x-python",
      "codemirror_mode": {
        "name": "ipython",
        "version": 3
      },
      "pygments_lexer": "ipython3",
      "nbconvert_exporter": "python",
      "file_extension": ".py"
    },
    "kernel_info": {
      "name": "python3-azureml"
    },
    "nteract": {
      "version": "nteract-front-end@1.0.0"
    }
  },
  "nbformat": 4,
  "nbformat_minor": 2
}
